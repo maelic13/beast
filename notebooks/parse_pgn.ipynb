{
 "cells": [
  {
   "metadata": {},
   "cell_type": "code",
   "outputs": [],
   "execution_count": null,
   "source": [
    "from infra import PgnConverter\n",
    "\n",
    "from beast.constants import Constants"
   ],
   "id": "36c02724dfa81e41"
  },
  {
   "metadata": {},
   "cell_type": "code",
   "outputs": [],
   "execution_count": null,
   "source": [
    "extracted_positions = PgnConverter.parse_pgn_files([Constants.DATA_PATH / \"pgn\" / \"games.pgn\"])\n",
    "PgnConverter.save_positions_to_file(\n",
    "    extracted_positions, Constants.DATA_PATH / \"txt\" / \"positions.txt\"\n",
    ")"
   ],
   "id": "a3527d617766e9b4"
  },
  {
   "metadata": {},
   "cell_type": "code",
   "outputs": [],
   "execution_count": null,
   "source": [
    "extracted_positions = PgnConverter.load_positions_from_file(\n",
    "    Constants.DATA_PATH / \"txt\" / \"positions.txt\"\n",
    ")"
   ],
   "id": "71a4a60f703d723e"
  },
  {
   "metadata": {},
   "cell_type": "code",
   "outputs": [],
   "execution_count": null,
   "source": [
    "evaluated_positions = PgnConverter.evaluate_positions(\n",
    "    extracted_positions, Constants.DATA_PATH / \"stockfish.exe\"\n",
    ")"
   ],
   "id": "6dec85bf0f1de4d7"
  },
  {
   "metadata": {},
   "cell_type": "code",
   "outputs": [],
   "execution_count": null,
   "source": [
    "PgnConverter.save_evaluated_data_to_file(\n",
    "    evaluated_positions, Constants.DATA_PATH / \"txt\" / \"evaluated_positions.txt\"\n",
    ")"
   ],
   "id": "9f4f921cb2b1b117"
  }
 ],
 "metadata": {
  "kernelspec": {
   "display_name": "Python 3",
   "language": "python",
   "name": "python3"
  },
  "language_info": {
   "codemirror_mode": {
    "name": "ipython",
    "version": 2
   },
   "file_extension": ".py",
   "mimetype": "text/x-python",
   "name": "python",
   "nbconvert_exporter": "python",
   "pygments_lexer": "ipython2",
   "version": "2.7.6"
  }
 },
 "nbformat": 4,
 "nbformat_minor": 5
}
