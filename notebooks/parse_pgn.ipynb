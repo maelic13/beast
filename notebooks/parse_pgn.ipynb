{
 "cells": [
  {
   "metadata": {},
   "cell_type": "code",
   "source": [
    "from infra import PgnConverter\n",
    "\n",
    "from beast.infra import Constants"
   ],
   "id": "36c02724dfa81e41",
   "outputs": [],
   "execution_count": null
  },
  {
   "metadata": {},
   "cell_type": "code",
   "source": [
    "extracted_positions = PgnConverter.parse_pgn_files([Constants.DATA_PATH / \"pgn\" / \"games_100k.pgn\"])\n",
    "PgnConverter.save_positions_to_file(\n",
    "    extracted_positions, Constants.DATA_PATH / \"txt\" / \"games_100k.txt\"\n",
    ")"
   ],
   "id": "a3527d617766e9b4",
   "outputs": [],
   "execution_count": null
  },
  {
   "metadata": {},
   "cell_type": "code",
   "source": [
    "extracted_positions = PgnConverter.load_positions_from_file(\n",
    "    Constants.DATA_PATH / \"txt\" / \"positions.txt\"\n",
    ")"
   ],
   "id": "71a4a60f703d723e",
   "outputs": [],
   "execution_count": null
  },
  {
   "metadata": {},
   "cell_type": "code",
   "source": [
    "###############################\n",
    "already_evaluated = 29_000_000\n",
    "cpus = 16\n",
    "###############################\n",
    "\n",
    "remaining_positions_num = len(extracted_positions) - already_evaluated\n",
    "for i in range(int(remaining_positions_num / 1_000_000) + 1):\n",
    "    start_index = already_evaluated + i * 1_000_000\n",
    "    end_index = start_index + 1_000_000\n",
    "\n",
    "    evaluated_positions = PgnConverter.evaluate_positions(\n",
    "        extracted_positions[start_index:end_index],\n",
    "        Constants.DATA_PATH / \"stockfish.exe\",\n",
    "        num_processes=cpus,\n",
    "    )\n",
    "\n",
    "    PgnConverter.save_evaluated_data_to_file(\n",
    "        evaluated_positions,\n",
    "        Constants.DATA_PATH\n",
    "        / \"evaluated\"\n",
    "        / f\"evaluated_positions_{int(start_index / 1e6)}-{int(end_index / 1e6)}.txt\",\n",
    "    )"
   ],
   "id": "6dec85bf0f1de4d7",
   "outputs": [],
   "execution_count": null
  },
  {
   "metadata": {
    "ExecuteTime": {
     "end_time": "2025-05-09T15:06:14.230869Z",
     "start_time": "2025-05-09T15:06:13.957468Z"
    }
   },
   "cell_type": "code",
   "source": [
    "import os\n",
    "import onnx\n",
    "\n",
    "for root, dirs, files in os.walk(r\"D:\\code\\beast\\models\"):\n",
    "    for file in files:\n",
    "        if file.lower().endswith('.onnx'):\n",
    "            path = os.path.join(root, file)\n",
    "            print(f\"Processing {path}...\")\n",
    "            model = onnx.load(path)\n",
    "\n",
    "            # remove existing entries with same key\n",
    "            to_remove = [m for m in model.metadata_props if m.key == \"model_version\"]\n",
    "            for m in to_remove:\n",
    "                model.metadata_props.remove(m)\n",
    "\n",
    "            # add new metadata\n",
    "            model.metadata_props.add(key=\"model_version\", value=\"v1\")\n",
    "            onnx.save_model(model, path)\n",
    "            print(f\"Updated model_version to v1 in {path}\")"
   ],
   "id": "b638ee260280c02a",
   "outputs": [
    {
     "name": "stdout",
     "output_type": "stream",
     "text": [
      "Processing D:\\code\\beast\\models\\v1-1.onnx...\n",
      "Updated model_version to v1 in D:\\code\\beast\\models\\v1-1.onnx\n",
      "Processing D:\\code\\beast\\models\\v1-2.onnx...\n",
      "Updated model_version to v1 in D:\\code\\beast\\models\\v1-2.onnx\n",
      "Processing D:\\code\\beast\\models\\v1-3.onnx...\n",
      "Updated model_version to v1 in D:\\code\\beast\\models\\v1-3.onnx\n",
      "Processing D:\\code\\beast\\models\\v1-4.onnx...\n",
      "Updated model_version to v1 in D:\\code\\beast\\models\\v1-4.onnx\n",
      "Processing D:\\code\\beast\\models\\v1-5.onnx...\n",
      "Updated model_version to v1 in D:\\code\\beast\\models\\v1-5.onnx\n",
      "Processing D:\\code\\beast\\models\\v1-6.onnx...\n",
      "Updated model_version to v1 in D:\\code\\beast\\models\\v1-6.onnx\n",
      "Processing D:\\code\\beast\\models\\v2-1.onnx...\n",
      "Updated model_version to v1 in D:\\code\\beast\\models\\v2-1.onnx\n",
      "Processing D:\\code\\beast\\models\\v2-2.onnx...\n",
      "Updated model_version to v1 in D:\\code\\beast\\models\\v2-2.onnx\n"
     ]
    }
   ],
   "execution_count": 1
  }
 ],
 "metadata": {
  "kernelspec": {
   "display_name": "Python 3",
   "language": "python",
   "name": "python3"
  },
  "language_info": {
   "codemirror_mode": {
    "name": "ipython",
    "version": 2
   },
   "file_extension": ".py",
   "mimetype": "text/x-python",
   "name": "python",
   "nbconvert_exporter": "python",
   "pygments_lexer": "ipython2",
   "version": "2.7.6"
  }
 },
 "nbformat": 4,
 "nbformat_minor": 5
}
