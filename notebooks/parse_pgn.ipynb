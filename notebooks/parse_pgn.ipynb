{
 "cells": [
  {
   "metadata": {},
   "cell_type": "code",
   "source": [
    "from infra import PgnConverter\n",
    "\n",
    "from beast.infra import Constants"
   ],
   "id": "36c02724dfa81e41",
   "outputs": [],
   "execution_count": null
  },
  {
   "metadata": {},
   "cell_type": "markdown",
   "source": "This cell is meant for parsing PGN files and saving positions in FEN format into text file.",
   "id": "d98f888a99f519c6"
  },
  {
   "metadata": {},
   "cell_type": "code",
   "source": [
    "extracted_positions = PgnConverter.parse_pgn_files([Constants.DATA_PATH / \"pgn\" / \"games.pgn\"])\n",
    "PgnConverter.save_positions_to_file(\n",
    "    extracted_positions, Constants.DATA_PATH / \"txt\" / \"positions.txt\"\n",
    ")"
   ],
   "id": "a3527d617766e9b4",
   "outputs": [],
   "execution_count": null
  },
  {
   "metadata": {},
   "cell_type": "markdown",
   "source": "This cell is meant for loading positions from text file, use if you have already parsed your PGNs.",
   "id": "8ce4fcbb9204c68"
  },
  {
   "metadata": {},
   "cell_type": "code",
   "source": [
    "extracted_positions = PgnConverter.load_positions_from_file(\n",
    "    Constants.DATA_PATH / \"txt\" / \"positions.txt\"\n",
    ")"
   ],
   "id": "71a4a60f703d723e",
   "outputs": [],
   "execution_count": null
  },
  {
   "metadata": {},
   "cell_type": "markdown",
   "source": [
    "Evaluation by stockfish of FEN positions. Since it takes a long time, it is evaluated in customizable batch sizes\n",
    "and saved into separated files. If you stop in the middle of evaluation, next time you have to define already_evaluated\n",
    "to the proper number of games. You can choose how many cpu cores you wish to use to speed up the process."
   ],
   "id": "6fdb2f42751edb93"
  },
  {
   "metadata": {},
   "cell_type": "code",
   "source": [
    "###############################\n",
    "already_evaluated = 0\n",
    "cpus = 2\n",
    "batch_size = 1_000_000\n",
    "###############################\n",
    "\n",
    "remaining_positions_num = len(extracted_positions) - already_evaluated\n",
    "for i in range(int(remaining_positions_num / batch_size) + 1):\n",
    "    start_index = already_evaluated + i * batch_size\n",
    "    end_index = start_index + batch_size\n",
    "\n",
    "    evaluated_positions = PgnConverter.evaluate_positions(\n",
    "        extracted_positions[start_index:end_index],\n",
    "        Constants.DATA_PATH / \"stockfish.exe\",\n",
    "        num_processes=cpus,\n",
    "    )\n",
    "\n",
    "    PgnConverter.save_evaluated_data_to_file(\n",
    "        evaluated_positions,\n",
    "        Constants.DATA_PATH\n",
    "        / \"evaluated\"\n",
    "        / f\"evaluated_positions_{int(start_index / batch_size)}-{int(end_index / batch_size)}.txt\",\n",
    "    )"
   ],
   "id": "6dec85bf0f1de4d7",
   "outputs": [],
   "execution_count": null
  }
 ],
 "metadata": {
  "kernelspec": {
   "display_name": "Python 3",
   "language": "python",
   "name": "python3"
  },
  "language_info": {
   "codemirror_mode": {
    "name": "ipython",
    "version": 2
   },
   "file_extension": ".py",
   "mimetype": "text/x-python",
   "name": "python",
   "nbconvert_exporter": "python",
   "pygments_lexer": "ipython2",
   "version": "2.7.6"
  }
 },
 "nbformat": 4,
 "nbformat_minor": 5
}
