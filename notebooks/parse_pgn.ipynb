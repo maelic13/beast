{
 "cells": [
  {
   "cell_type": "code",
   "execution_count": null,
   "id": "47c567688dad6460",
   "metadata": {},
   "outputs": [],
   "source": [
    "from time import time\n",
    "\n",
    "from infra import PgnConverter\n",
    "\n",
    "from beast.constants import Constants"
   ]
  },
  {
   "cell_type": "code",
   "execution_count": null,
   "id": "initial_id",
   "metadata": {
    "collapsed": true
   },
   "outputs": [],
   "source": [
    "files = [Constants.DATA_PATH / \"pgn\" / \"games.pgn\"]\n",
    "\n",
    "start = time()\n",
    "extracted_positions = PgnConverter.parse_pgn_files(files)\n",
    "print(f\"Extraction took {int((time() - start) / 60)} minutes {int((time() - start) % 60)} seconds.\")\n",
    "print(f\"Extracted positions: {len(extracted_positions)}.\\n\")"
   ]
  },
  {
   "cell_type": "code",
   "execution_count": null,
   "id": "d40e8607159d9c08",
   "metadata": {},
   "outputs": [],
   "source": [
    "start = time()\n",
    "extracted_positions = list(set(extracted_positions))\n",
    "print(\n",
    "    f\"Elimination of doubles took {int((time() - start) / 60)} minutes \"\n",
    "    f\"{int((time() - start) % 60)} seconds.\"\n",
    ")\n",
    "print(f\"Extracted positions after doubles elimination: {len(extracted_positions)}.\\n\")"
   ]
  },
  {
   "cell_type": "code",
   "execution_count": null,
   "id": "df4d99a235db4b1c",
   "metadata": {},
   "outputs": [],
   "source": [
    "start = time()\n",
    "PgnConverter.save_positions_to_file(extracted_positions, \"positions.txt\")\n",
    "print(f\"Saving took {int((time() - start) / 60)} minutes {int((time() - start) % 60)} seconds.\\n\")"
   ]
  },
  {
   "cell_type": "code",
   "execution_count": null,
   "id": "60bcfcbfe054dc34",
   "metadata": {},
   "outputs": [],
   "source": [
    "start = time()\n",
    "evaluated_positions = PgnConverter.evaluate(extracted_positions)\n",
    "print(f\"Evaluation took {int((time() - start) / 60)} minutes {int((time() - start) % 60)} seconds.\")"
   ]
  },
  {
   "cell_type": "code",
   "execution_count": null,
   "id": "d011195d8485f8b3",
   "metadata": {},
   "outputs": [],
   "source": [
    "start = time()\n",
    "PgnConverter.save_evaluated_data_to_file(evaluated_positions, \"data/games.txt\")\n",
    "print(f\"Saving took {round(time() - start, 2)} seconds.\")"
   ]
  }
 ],
 "metadata": {
  "kernelspec": {
   "display_name": "Python 3",
   "language": "python",
   "name": "python3"
  },
  "language_info": {
   "codemirror_mode": {
    "name": "ipython",
    "version": 2
   },
   "file_extension": ".py",
   "mimetype": "text/x-python",
   "name": "python",
   "nbconvert_exporter": "python",
   "pygments_lexer": "ipython2",
   "version": "2.7.6"
  }
 },
 "nbformat": 4,
 "nbformat_minor": 5
}
