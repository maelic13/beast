{
 "cells": [
  {
   "cell_type": "code",
   "id": "initial_id",
   "metadata": {
    "collapsed": true,
    "ExecuteTime": {
     "end_time": "2025-05-11T10:25:59.324745Z",
     "start_time": "2025-05-11T10:25:56.197127Z"
    }
   },
   "source": [
    "from pathlib import Path\n",
    "\n",
    "import matplotlib.pyplot as plt\n",
    "from keras import Sequential, callbacks, layers, optimizers, activations\n",
    "\n",
    "from beast_chess.neural_networks import NetInputFactory, NetInputVersion\n",
    "from notebooks.infra import Constants, PgnConverter, save_onnx_with_metadata, set_seed"
   ],
   "outputs": [
    {
     "name": "stdout",
     "output_type": "stream",
     "text": [
      "WARNING:tensorflow:From D:\\code\\beast\\.dev\\Lib\\site-packages\\tf2onnx\\tf_loader.py:68: The name tf.reset_default_graph is deprecated. Please use tf.compat.v1.reset_default_graph instead.\n",
      "\n",
      "WARNING:tensorflow:From D:\\code\\beast\\.dev\\Lib\\site-packages\\tf2onnx\\tf_loader.py:72: The name tf.train.import_meta_graph is deprecated. Please use tf.compat.v1.train.import_meta_graph instead.\n",
      "\n"
     ]
    }
   ],
   "execution_count": 1
  },
  {
   "cell_type": "code",
   "id": "5f242c8e44902f43",
   "metadata": {
    "ExecuteTime": {
     "end_time": "2025-05-11T10:25:59.558787Z",
     "start_time": "2025-05-11T10:25:59.425089Z"
    }
   },
   "source": [
    "model_version = NetInputVersion.V2\n",
    "\n",
    "get_input = NetInputFactory.from_version(model_version)\n",
    "x_data, y_data = PgnConverter.load_training_data_from_file(\n",
    "    Constants.DATA_PATH / \"evaluated\" / \"evaluated_macurek.txt\", get_input=get_input\n",
    ")"
   ],
   "outputs": [
    {
     "name": "stdout",
     "output_type": "stream",
     "text": [
      "Loading training data from D:\\code\\beast\\data\\evaluated\\evaluated_macurek.txt...\n",
      "Loading took 0 seconds.\n",
      "Loaded 13349 training data.\n"
     ]
    }
   ],
   "execution_count": 2
  },
  {
   "cell_type": "code",
   "id": "f5b5c37ddd2da4e8",
   "metadata": {
    "ExecuteTime": {
     "end_time": "2025-05-11T10:26:13.370436Z",
     "start_time": "2025-05-11T10:25:59.591100Z"
    }
   },
   "source": [
    "set_seed(42)\n",
    "\n",
    "model = Sequential([\n",
    "    layers.Input(x_data[0].shape),\n",
    "    layers.Conv2D(128, kernel_size=3),\n",
    "    layers.BatchNormalization(),\n",
    "    layers.LeakyReLU(),\n",
    "    layers.Conv2D(256, kernel_size=3),\n",
    "    layers.BatchNormalization(),\n",
    "    layers.LeakyReLU(),\n",
    "    layers.Flatten(),\n",
    "    layers.Dense(256),\n",
    "    layers.LeakyReLU(),\n",
    "    layers.Dense(1, activation=activations.sigmoid),\n",
    "])\n",
    "\n",
    "adam = optimizers.Adam(learning_rate=0.001)\n",
    "model.compile(optimizer=adam, loss=\"mse\", metrics=[\"acc\", \"mape\", \"mae\"])\n",
    "early_stop = callbacks.EarlyStopping(monitor=\"val_loss\", patience=200)\n",
    "\n",
    "history = model.fit(\n",
    "    x_data,\n",
    "    y_data,\n",
    "    epochs=1,\n",
    "    batch_size=512,\n",
    "    validation_split=0.2,\n",
    "    callbacks=[early_stop],\n",
    "    verbose=1,\n",
    ")\n",
    "\n",
    "plt.figure()\n",
    "plt.plot(history.history[\"loss\"], label=\"Train\")\n",
    "plt.plot(history.history[\"val_loss\"], label=\"Val\")\n",
    "plt.legend()\n",
    "plt.xlabel(\"Epoch\")\n",
    "plt.ylabel(\"Loss\")\n",
    "plt.title(\"Training vs Validation Loss\")\n",
    "plt.grid(visible=True)\n",
    "plt.show()"
   ],
   "outputs": [
    {
     "name": "stdout",
     "output_type": "stream",
     "text": [
      "\u001B[1m21/21\u001B[0m \u001B[32m━━━━━━━━━━━━━━━━━━━━\u001B[0m\u001B[37m\u001B[0m \u001B[1m5s\u001B[0m 151ms/step - acc: 0.1115 - loss: 0.3569 - mae: 0.4996 - mape: 17731188.0000 - val_acc: 0.1131 - val_loss: 0.3775 - val_mae: 0.5162 - val_mape: 337007.5000\n"
     ]
    },
    {
     "data": {
      "text/plain": [
       "<Figure size 640x480 with 1 Axes>"
      ],
      "image/png": "[encoded data removed]"
     },
     "metadata": {},
     "output_type": "display_data"
    }
   ],
   "execution_count": 3
  },
  {
   "cell_type": "code",
   "id": "ab385a2ed9ae49ea",
   "metadata": {
    "ExecuteTime": {
     "end_time": "2025-05-11T10:38:24.151652Z",
     "start_time": "2025-05-11T10:38:23.584893Z"
    }
   },
   "source": "save_onnx_with_metadata(model, \"test_model\", x_data[0], Path(), model_version=model_version.name)",
   "outputs": [
    {
     "name": "stderr",
     "output_type": "stream",
     "text": [
      "ERROR:tf2onnx.tfonnx:rewriter <function rewrite_constant_fold at 0x0000018469881800>: exception `np.cast` was removed in the NumPy 2.0 release. Use `np.asarray(arr, dtype=dtype)` instead.\n"
     ]
    }
   ],
   "execution_count": 9
  }
 ],
 "metadata": {
  "kernelspec": {
   "display_name": "Python 3",
   "language": "python",
   "name": "python3"
  },
  "language_info": {
   "codemirror_mode": {
    "name": "ipython",
    "version": 2
   },
   "file_extension": ".py",
   "mimetype": "text/x-python",
   "name": "python",
   "nbconvert_exporter": "python",
   "pygments_lexer": "ipython2",
   "version": "2.7.6"
  }
 },
 "nbformat": 4,
 "nbformat_minor": 5
}
