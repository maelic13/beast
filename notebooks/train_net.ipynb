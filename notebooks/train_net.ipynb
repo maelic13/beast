{
 "cells": [
  {
   "cell_type": "code",
   "id": "initial_id",
   "metadata": {
    "collapsed": true
   },
   "source": [
    "from pathlib import Path\n",
    "\n",
    "import matplotlib.pyplot as plt\n",
    "from keras import Sequential, callbacks, layers\n",
    "from keras.src.optimizers import Adam\n",
    "\n",
    "from beast.infra import Constants\n",
    "from beast.neural_networks import NetFactory, NetVersion\n",
    "from notebooks.infra import PgnConverter, save_onnx_with_metadata, set_seed"
   ],
   "outputs": [],
   "execution_count": null
  },
  {
   "cell_type": "code",
   "id": "5f242c8e44902f43",
   "metadata": {},
   "source": [
    "model_version = NetVersion.V1\n",
    "net = NetFactory.from_version(model_version)\n",
    "x_data, y_data = PgnConverter.load_training_data_from_file(\n",
    "    Constants.DATA_PATH / \"evaluated\" / \"evaluated_games.txt\", get_input=net.fen_to_input\n",
    ")"
   ],
   "outputs": [],
   "execution_count": null
  },
  {
   "cell_type": "code",
   "id": "f5b5c37ddd2da4e8",
   "metadata": {},
   "source": [
    "set_seed(42)\n",
    "\n",
    "model = Sequential([\n",
    "    layers.Input(x_data[0].shape),\n",
    "    layers.Conv2D(128, kernel_size=3),\n",
    "    layers.BatchNormalization(),\n",
    "    layers.LeakyReLU(),\n",
    "    layers.Conv2D(256, kernel_size=3),\n",
    "    layers.BatchNormalization(),\n",
    "    layers.LeakyReLU(),\n",
    "    layers.Flatten(),\n",
    "    layers.Dense(256),\n",
    "    layers.LeakyReLU(),\n",
    "    layers.Dense(1, activation=\"tanh\"),\n",
    "])\n",
    "\n",
    "adam = Adam(learning_rate=0.001)\n",
    "model.compile(optimizer=adam, loss=\"mse\", metrics=[\"acc\", \"mape\", \"mae\"])\n",
    "early_stop = callbacks.EarlyStopping(monitor=\"val_loss\", patience=200)\n",
    "\n",
    "history = model.fit(\n",
    "    x_data,\n",
    "    y_data,\n",
    "    epochs=2000,\n",
    "    batch_size=256,\n",
    "    validation_split=0.2,\n",
    "    callbacks=[early_stop],\n",
    "    verbose=1,\n",
    ")\n",
    "\n",
    "plt.figure()\n",
    "plt.plot(history.history[\"loss\"], label=\"Train\")\n",
    "plt.plot(history.history[\"val_loss\"], label=\"Val\")\n",
    "plt.legend()\n",
    "plt.xlabel(\"Epoch\")\n",
    "plt.ylabel(\"Loss\")\n",
    "plt.title(\"Training vs Validation Loss\")\n",
    "plt.grid(visible=True)\n",
    "plt.show()"
   ],
   "outputs": [],
   "execution_count": null
  },
  {
   "cell_type": "code",
   "id": "ab385a2ed9ae49ea",
   "metadata": {},
   "source": [
    "save_onnx_with_metadata(model, \"test_model\", x_data[0], Path(), model_version=model_version.name)"
   ],
   "outputs": [],
   "execution_count": null
  }
 ],
 "metadata": {
  "kernelspec": {
   "display_name": "Python 3",
   "language": "python",
   "name": "python3"
  },
  "language_info": {
   "codemirror_mode": {
    "name": "ipython",
    "version": 2
   },
   "file_extension": ".py",
   "mimetype": "text/x-python",
   "name": "python",
   "nbconvert_exporter": "python",
   "pygments_lexer": "ipython2",
   "version": "2.7.6"
  }
 },
 "nbformat": 4,
 "nbformat_minor": 5
}
